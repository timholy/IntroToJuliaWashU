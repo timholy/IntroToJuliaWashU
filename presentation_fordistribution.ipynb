{
 "cells": [
  {
   "cell_type": "code",
   "execution_count": null,
   "metadata": {
    "slideshow": {
     "slide_type": "skip"
    }
   },
   "outputs": [],
   "source": [
    "# This presentation was delivered using [RISE](https://github.com/damianavila/RISE).\n",
    "\n",
    "# Clear all outputs and run this cell before starting the presentation.\n",
    "# The Meter stuff defines things that will be used in demos but presented only\n",
    "# as Markdown.\n",
    "# The Plots and Images stuff is purely to get past the annoying JIT delay.\n",
    "\n",
    "struct Meter{N}\n",
    "    value::Float64\n",
    "end\n",
    "Base.:*(x::Meter{M}, y::Meter{N}) where {M,N} = Meter{M+N}(x.value * y.value)\n",
    "Base.:/(x::Meter{M}, y::Meter{N}) where {M,N} = Meter{M-N}(x.value / y.value)\n",
    "Base.:*(x::Real, y::Meter{N}) where N = Meter{N}(x * y.value)\n",
    "Base.:+(x::Meter{N}, y::Meter{N}) where N = Meter{N}(x.value + y.value)\n",
    "Base.show(io::IO, x::Meter{N}) where N = print(io, x.value, \"m^\", N)\n",
    "Base.show(io::IO, x::Meter{1}) = print(io, x.value, \"m\")\n",
    "Base.show(io::IO, x::Meter{0}) = print(io, x.value)\n",
    "\n",
    "const m = Meter{1}(1)\n",
    "\n",
    "using Plots; plotlyjs()\n",
    "\n",
    "fntsm = Plots.font(\"sans-serif\", 10.0)\n",
    "fntlg = Plots.font(\"sans-serif\", 14.0)\n",
    "Plots.default(titlefont=fntlg, guidefont=fntlg, tickfont=fntsm, legendfont=fntsm)\n",
    "Plots.default(size=(720,540))\n",
    "display(plot(linspace(0, 5π, 200), sin))\n",
    "\n",
    "using Images, TestImages\n",
    "img = testimage(\"lighthouse\")"
   ]
  },
  {
   "cell_type": "markdown",
   "metadata": {
    "slideshow": {
     "slide_type": "slide"
    }
   },
   "source": [
    "# <center>The Julia programming language</center>\n",
    "<br>\n",
    "<center>![julia logo](figures/julia_logo.png)</center>\n",
    "\n",
    "### <center>Timothy E. Holy</center>\n",
    "<center>Department of Neuroscience</center>\n",
    "<center>Washington University in St. Louis</center>"
   ]
  },
  {
   "cell_type": "markdown",
   "metadata": {
    "slideshow": {
     "slide_type": "slide"
    }
   },
   "source": [
    "# What is Julia and where did it come from?\n",
    "\n",
    "A free and open-source general purpose programming language with an emphasis on scientific computing\n"
   ]
  },
  {
   "cell_type": "markdown",
   "metadata": {
    "slideshow": {
     "slide_type": "fragment"
    }
   },
   "source": [
    "Created by Jeff Bezanson, Stefan Karpinski, Viral Shah, and Alan Edelman (all at MIT) in 2009"
   ]
  },
  {
   "cell_type": "markdown",
   "metadata": {
    "slideshow": {
     "slide_type": "fragment"
    }
   },
   "source": [
    "\"Went public\" in 2012 thanks to a now-famous blog post:\n",
    "![blog post](figures/whywecreatedjulia.png)"
   ]
  },
  {
   "cell_type": "markdown",
   "metadata": {
    "slideshow": {
     "slide_type": "slide"
    }
   },
   "source": [
    "# \"I've never heard of it, why should I care?\"\n",
    "\n",
    "There are thought to be [thousands of programming languages](https://en.wikipedia.org/wiki/List_of_programming_languages#C), though not many are serious contenders for scientific programming (Matlab, Python, R, Mathematica, Octave, now Julia)"
   ]
  },
  {
   "cell_type": "markdown",
   "metadata": {
    "slideshow": {
     "slide_type": "fragment"
    }
   },
   "source": [
    "Julia is growing fast:\n",
    "\n",
    "|  |  |\n",
    "| --- | --- |\n",
    "| ![stats](figures/growingfast.png) | ![stats](figures/top10languages.png) |"
   ]
  },
  {
   "cell_type": "markdown",
   "metadata": {
    "slideshow": {
     "slide_type": "slide"
    }
   },
   "source": [
    "# Why is Julia succeeding?\n",
    "\n",
    "* Interactive & dynamic\n",
    "* Elegant language design\n",
    "* A focus on _composable_ and _reusable_ code\n",
    "* Outstanding performance"
   ]
  },
  {
   "cell_type": "markdown",
   "metadata": {
    "slideshow": {
     "slide_type": "slide"
    }
   },
   "source": [
    "# Interactive and dynamic"
   ]
  },
  {
   "cell_type": "code",
   "execution_count": null,
   "metadata": {
    "slideshow": {
     "slide_type": "-"
    }
   },
   "outputs": [],
   "source": []
  },
  {
   "cell_type": "markdown",
   "metadata": {
    "slideshow": {
     "slide_type": "notes"
    }
   },
   "source": [
    "In the box above, I demo (one after another):\n",
    "```\n",
    "2+3\n",
    "a = [1 2; 3 4]\n",
    "a*a\n",
    "```"
   ]
  },
  {
   "cell_type": "markdown",
   "metadata": {
    "slideshow": {
     "slide_type": "slide"
    }
   },
   "source": [
    "# Elegant language design (trivial example)\n",
    "\n",
    "```julia\n",
    "function cartesian(r, θ, ϕ = 0)\n",
    "    x, y, z = r*sin(θ)*cos(ϕ), r*sin(θ)*sin(ϕ), r*cos(θ)\n",
    "end\n",
    "```"
   ]
  },
  {
   "cell_type": "markdown",
   "metadata": {
    "slideshow": {
     "slide_type": "notes"
    }
   },
   "source": [
    "Above I mention simple stuff: the use of unicode, the nice syntax for default arguments"
   ]
  },
  {
   "cell_type": "markdown",
   "metadata": {
    "slideshow": {
     "slide_type": "slide"
    }
   },
   "source": [
    "# Elegant language design (typical example)\n",
    "\n",
    "```julia\n",
    "if !isfile(graph_file)\n",
    "    # namespaces!\n",
    "    rq = Requests.get(\"http://api.brain-map.org/api/v2/structure_graph_download/1.json\")\n",
    "    data = JSON.parse(String(rq.data))\n",
    "    # built-in dictionaries! chained indexing that actually works!\n",
    "    hierarchy = data[\"msg\"][1]\n",
    "\n",
    "    # closes files when done, even if there's an error in the middle!\n",
    "    open(graph_file, \"w\") do io\n",
    "        write(io, JSON.json(hierarchy))\n",
    "    end\n",
    "end\n",
    "```\n"
   ]
  },
  {
   "cell_type": "markdown",
   "metadata": {
    "slideshow": {
     "slide_type": "notes"
    }
   },
   "source": [
    "The above was an almost randomly-chosen block of code that I then looked at and asked whether it improved on the expectations I had before I adopted Julia. Even in a short block of code, I found several."
   ]
  },
  {
   "cell_type": "markdown",
   "metadata": {
    "slideshow": {
     "slide_type": "slide"
    }
   },
   "source": [
    "# Elegant language design (complex example)\n",
    "\n",
    "<span style=\"font-size: 0.5em;\">\n",
    "\"A Linear Time Algorithm for Computing Exact Euclidean Distance Transforms of\n",
    "Binary Images in Arbitrary Dimensions\"\n",
    "Maurer, Qi, Raghavan 2003\n",
    "</span>\n",
    "\n",
    "<center>![bwdist](figures/bwdist_pseudocode.png)</center>"
   ]
  },
  {
   "cell_type": "markdown",
   "metadata": {
    "slideshow": {
     "slide_type": "notes"
    }
   },
   "source": [
    "The above algorithm would be complicated to implement in most languages. In particular, the last block of code is a set of `d` nested `for`-loops. In many languages you might have to write a separate implementation for each dimensionality, if you wanted to make it fast."
   ]
  },
  {
   "cell_type": "markdown",
   "metadata": {
    "slideshow": {
     "slide_type": "slide"
    }
   },
   "source": [
    "# Elegant language design (complex example, Julia implementation)\n",
    "\n",
    "```julia\n",
    "function computeft!(F, I, w, jpost::CartesianIndex{K}) where K\n",
    "    null = nullindex(F)\n",
    "    if K == ndims(I)-1\n",
    "        # Fig. 2, lines 2-8\n",
    "        for i1 in indices(I, 1)\n",
    "            F[i1, jpost] = ifelse(I[i1, jpost], CartesianIndex(i1, jpost), null)\n",
    "        end\n",
    "    else\n",
    "        # Fig. 2, lines 10-12\n",
    "        for i1 in indices(I, ndims(I) - K)\n",
    "            computeft!(F, I, w, CartesianIndex(i1, jpost))\n",
    "        end\n",
    "    end\n",
    "    # Fig. 2, lines 14-20\n",
    "    indspre = ftfront(indices(F), jpost)  # discards the trailing indices of F\n",
    "    for jpre in CartesianRange(indspre)\n",
    "        voronoift!(F, I, w, jpre, jpost)\n",
    "    end\n",
    "    F\n",
    "end\n",
    "\n",
    "\n",
    "nullindex(A::AbstractArray{T,N}) where {T,N} = typemin(Int)*one(CartesianIndex{N})\n",
    "\n",
    "ftfront(inds, reference::NTuple{K}) where K = ftfront(front(inds), reference)\n",
    "ftfront(inds::NTuple{K}, reference::NTuple{K}) where K = inds\n",
    "```\n"
   ]
  },
  {
   "cell_type": "markdown",
   "metadata": {
    "slideshow": {
     "slide_type": "notes"
    }
   },
   "source": [
    "The thing to observe here is that the Julia implementation is basically the same as the pseudocode, and not obviously any longer. The CartesianRange/CartesianIndex stuff allows you to create nested `for`-loops."
   ]
  },
  {
   "cell_type": "markdown",
   "metadata": {
    "slideshow": {
     "slide_type": "slide"
    }
   },
   "source": [
    "# Composable and reusable code\n",
    "\n",
    "```julia\n",
    "struct Meter{N}\n",
    "    value::Float64\n",
    "end\n",
    "Base.:*(x::Meter{M}, y::Meter{N}) where {M,N} = Meter{M+N}(x.value * y.value)\n",
    "Base.:/(x::Meter{M}, y::Meter{N}) where {M,N} = Meter{M-N}(x.value / y.value)\n",
    "Base.:*(x::Real, y::Meter{N}) where N = Meter{N}(x * y.value)\n",
    "Base.:+(x::Meter{N}, y::Meter{N}) where N = Meter{N}(x.value + y.value)\n",
    "Base.show(io::IO, x::Meter{N}) where N = print(io, x.value, \"m^\", N)\n",
    "Base.show(io::IO, x::Meter{1}) = print(io, x.value, \"m\")\n",
    "Base.show(io::IO, x::Meter{0}) = print(io, x.value)\n",
    "\n",
    "const m = Meter{1}(1)\n",
    "```"
   ]
  },
  {
   "cell_type": "markdown",
   "metadata": {
    "slideshow": {
     "slide_type": "notes"
    }
   },
   "source": [
    "Composable = put your design effort into \"small\" objects that work together, and assemble them into big and beautiful projects.\n",
    "\n",
    "Here we're going to create a new type of number and use it in computations. To keep it familiar, we'll make it behave like a physical unit. (The experts here might notice that the multiplication rule is not inferrable, at least with current versions of Julia, but on balance I decided that simplicity was better than perfection. It could be fixed with a `@generated` function.)\n",
    "\n",
    "I don't go into great detail talking about these: I just point out a few highlights, like \"we're defining arithmetic rules here. There is one thing to note: the `N` is the exponent (power) attached to the meters, and so these numbers follow the rules that you've come to expect from physical units: meters * meters = meter^2, and so on. The `show` methods just affect the display of quantities. The `m` constant will be handy for creating objects of this type.\" That's about it."
   ]
  },
  {
   "cell_type": "code",
   "execution_count": null,
   "metadata": {
    "slideshow": {
     "slide_type": "slide"
    }
   },
   "outputs": [],
   "source": [
    "x, y = 3m, 2m"
   ]
  },
  {
   "cell_type": "code",
   "execution_count": null,
   "metadata": {
    "slideshow": {
     "slide_type": "-"
    }
   },
   "outputs": [],
   "source": []
  },
  {
   "cell_type": "markdown",
   "metadata": {
    "slideshow": {
     "slide_type": "notes"
    }
   },
   "source": [
    "In the box above I try simple stuff first: I show that `x+y` works, then `x*y`. Then I point out that `x^5` works even though we didn't define a special method for it. Then I create `a = [1m 2m; 3m 4m]` and show that matrix multiplication works even though we didn't have to write an algorithm for multiplying matrices of this new kind of number. (Again the afficianodos will get bothered by that `Any`, but the `@generated` version would solve that.)"
   ]
  },
  {
   "cell_type": "code",
   "execution_count": null,
   "metadata": {
    "slideshow": {
     "slide_type": "slide"
    }
   },
   "outputs": [],
   "source": [
    "using Colors\n",
    "c = colormatch(509)   # emission peak of Green Fluorescent Protein (in nm)"
   ]
  },
  {
   "cell_type": "markdown",
   "metadata": {
    "slideshow": {
     "slide_type": "notes"
    }
   },
   "source": [
    "Starting here I begin another illustration, one showing how nice it is to work with colors as a single entity. The `showtext` method below is just so people can appreciate what's happening under the hood, since Colors/IJulia/Jupyter display it as a color by default. There's an important consequence for image processing: it means that we have the equation \"1 array element\" == \"1 pixel,\" and that's true for grayscale and color images alike. In many other languages you'd need an `m`-by-`n`-by-3 array for color, and in some cases you might not be able to tell whether that 3rd dimension is for color or whether it's a \"thin slab\" of a genuinely 3d image or short grayscale movie sequence."
   ]
  },
  {
   "cell_type": "code",
   "execution_count": null,
   "metadata": {
    "slideshow": {
     "slide_type": "fragment"
    }
   },
   "outputs": [],
   "source": [
    "# Define a function for displaying objects as \"raw text\"\n",
    "showtext(x) = show(STDOUT, MIME(\"text/plain\"), x)\n",
    "\n",
    "showtext(c)"
   ]
  },
  {
   "cell_type": "code",
   "execution_count": null,
   "metadata": {
    "slideshow": {
     "slide_type": "fragment"
    }
   },
   "outputs": [],
   "source": [
    "showtext(RGB(c))"
   ]
  },
  {
   "cell_type": "code",
   "execution_count": null,
   "metadata": {
    "slideshow": {
     "slide_type": "slide"
    }
   },
   "outputs": [],
   "source": [
    "using Images, TestImages\n",
    "img = testimage(\"lighthouse\")"
   ]
  },
  {
   "cell_type": "code",
   "execution_count": null,
   "metadata": {
    "slideshow": {
     "slide_type": "slide"
    }
   },
   "outputs": [],
   "source": [
    "size(img)"
   ]
  },
  {
   "cell_type": "code",
   "execution_count": null,
   "metadata": {
    "slideshow": {
     "slide_type": "fragment"
    }
   },
   "outputs": [],
   "source": [
    "img[250,60]"
   ]
  },
  {
   "cell_type": "code",
   "execution_count": null,
   "metadata": {
    "slideshow": {
     "slide_type": "fragment"
    }
   },
   "outputs": [],
   "source": [
    "showtext(img[250,60])       # N0f8 = 8-bit fixed point number"
   ]
  },
  {
   "cell_type": "code",
   "execution_count": null,
   "metadata": {
    "slideshow": {
     "slide_type": "fragment"
    }
   },
   "outputs": [],
   "source": [
    "sizeof(img)/length(img)"
   ]
  },
  {
   "cell_type": "markdown",
   "metadata": {
    "slideshow": {
     "slide_type": "notes"
    }
   },
   "source": [
    "The observation above implies that you can pack these colors tightly: only 3 bytes/color. The abstraction does not add overhead."
   ]
  },
  {
   "cell_type": "markdown",
   "metadata": {
    "slideshow": {
     "slide_type": "fragment"
    }
   },
   "source": [
    "This allows you to write \"generic\" code (you don't need separate versions for color vs grayscale images)"
   ]
  },
  {
   "cell_type": "markdown",
   "metadata": {
    "slideshow": {
     "slide_type": "slide"
    }
   },
   "source": [
    "# Performance\n",
    "\n",
    "### A note on benchmarks\n",
    "\n",
    "These benchmarks are designed to test *programming paradigms* (loops, recursion, string parsing, etc.) and not *user experience*. Your actual experience can deviate from the impression you might get from these benchmarks.\n",
    "\n",
    "For matrices `A` and `B`, `A*B` is fast in every language, because most use the same underlying Fortran libraries."
   ]
  },
  {
   "cell_type": "markdown",
   "metadata": {
    "slideshow": {
     "slide_type": "slide"
    }
   },
   "source": [
    "<center> ![benchmarks](figures/benchmarks.png) </center>"
   ]
  },
  {
   "cell_type": "markdown",
   "metadata": {
    "slideshow": {
     "slide_type": "slide"
    }
   },
   "source": [
    "# What makes some languages slow?\n",
    "\n",
    "### Computing all comes down to interpreting 0s and 1s\n",
    "\n",
    "```julia\n",
    "julia> bits(5)  # show the binary representation of \"5\" (64-bit integer)\n",
    "\"0000000000000000000000000000000000000000000000000000000000000101\"\n",
    "```"
   ]
  },
  {
   "cell_type": "markdown",
   "metadata": {
    "slideshow": {
     "slide_type": "notes"
    }
   },
   "source": [
    "Now we get to the most technical part. I mention that from a certain perspective, Julia isn't fast: Julia's big trick is that it avoids being slow :-). This is a useful distinction, because it helps one realize that efficient computing comes from getting out of the way of the hardware, letting it do its job as intended.\n",
    "\n",
    "I tried to come up with a way to motivate type systems for people who may not be familiar with the concepts, and for whom reading LLVM IR or assembly might not exactly be second-nature. Because integer and floating point numbers use different binary representation and are operated on by separate transistor paths in the CPU, I found the following route to be fairly easy to explain."
   ]
  },
  {
   "cell_type": "markdown",
   "metadata": {
    "slideshow": {
     "slide_type": "fragment"
    }
   },
   "source": [
    "```julia\n",
    "julia> bits(5.0)  # show the binary representation of \"5.0\" (64-bit floating-point number)\n",
    "\"0100000000010100000000000000000000000000000000000000000000000000\"\n",
    "\n",
    "julia> reinterpret(Int, 5.0)\n",
    "4617315517961601024\n",
    "```\n",
    "(This is not specific to Julia, this is true for any programming language.)"
   ]
  },
  {
   "cell_type": "markdown",
   "metadata": {
    "slideshow": {
     "slide_type": "fragment"
    }
   },
   "source": [
    "$\\rightarrow$ Every collection of bits also comes with a *type* that tells how those 0s and 1s should be interpreted."
   ]
  },
  {
   "cell_type": "markdown",
   "metadata": {
    "slideshow": {
     "slide_type": "slide"
    }
   },
   "source": [
    "# What makes some languages slow?\n",
    "\n",
    "### You have to use different \"methods\" depending on the *type*\n",
    "\n",
    "Doing math with integers and floating point numbers:\n",
    "\n",
    "<center> ![cpu](figures/cpu.gif) </center>\n",
    "\n",
    "`x + y` gets translated into `add_using_the_integer_unit(x, y)` or `add_using_the_fpu(x, y)` depending on the types of `x` and `y`."
   ]
  },
  {
   "cell_type": "markdown",
   "metadata": {
    "slideshow": {
     "slide_type": "slide"
    }
   },
   "source": [
    "# What makes some languages slow?\n",
    "\n",
    "Implementing `x + y` in a slow language:\n",
    "\n",
    "```julia\n",
    "function mysum(x, y)\n",
    "    if isa(x, Float64) && isa(y, Float64)\n",
    "        return add64_using_the_fpu(x, y)\n",
    "    elseif isa(x, Float32) && isa(y, Float32)\n",
    "        return add32_using_the_fpu(x, y)\n",
    "    elseif isa(x, Int64) && isa(y, Int64)\n",
    "        return add64_using_the_integer_unit(x, y)\n",
    "    elseif isa(x, Int32) && isa(y, Int32)\n",
    "        return add64_using_the_integer_unit(x, y)\n",
    "    else\n",
    "        # convert everything to Float64\n",
    "        x64, y64 = Float64(x), Float64(y)\n",
    "        return add64_using_the_fpu(x64, y64)\n",
    "    end\n",
    "end\n",
    "```"
   ]
  },
  {
   "cell_type": "markdown",
   "metadata": {
    "slideshow": {
     "slide_type": "fragment"
    }
   },
   "source": [
    "Doing the addition might take a nanosecond or less. Determining the type might take tens of nanoseconds."
   ]
  },
  {
   "cell_type": "markdown",
   "metadata": {
    "slideshow": {
     "slide_type": "slide"
    }
   },
   "source": [
    "# How do slow languages work around this?\n",
    "\n",
    "### Vectorization: check once, and then do the same operation many times\n",
    "\n",
    "```julia\n",
    "# This function would be written in a fast language (C), so that the loops below are fast\n",
    "function mysum(x::Array, y::Array)\n",
    "    if eltype(x) == Float64 && eltype(y) == Float64\n",
    "        z = similar(x)\n",
    "        for i = 1:length(x)\n",
    "            z[i] = add64_using_the_fpu(x[i], y[i])   # these are fast\n",
    "        end\n",
    "    else\n",
    "        ...\n",
    "    end\n",
    "end\n",
    "```"
   ]
  },
  {
   "cell_type": "markdown",
   "metadata": {
    "slideshow": {
     "slide_type": "slide"
    }
   },
   "source": [
    "# Disadvantages of relying on vectorization\n",
    "\n",
    "* Everything fast must be written in C. You're at the mercy of others to write something in a language you may not understand (the \"two language problem\")."
   ]
  },
  {
   "cell_type": "markdown",
   "metadata": {
    "slideshow": {
     "slide_type": "fragment"
    }
   },
   "source": [
    "* Performance problems: `z[i] = sin(x[i]) + cos(y[i])` can be computed without temporary storage, but the (naive) vectorized version `z = sin(x) + cos(y)` creates two temporaries."
   ]
  },
  {
   "cell_type": "markdown",
   "metadata": {
    "slideshow": {
     "slide_type": "fragment"
    }
   },
   "source": [
    "* Sometimes the above can be worked around, but sometimes not (myth of the \"sufficiently smart compiler\")."
   ]
  },
  {
   "cell_type": "markdown",
   "metadata": {
    "slideshow": {
     "slide_type": "fragment"
    }
   },
   "source": [
    "* Sometimes vectorization is \"pretty,\" but sometimes your code is simpler and clearer if you can just write loops."
   ]
  },
  {
   "cell_type": "markdown",
   "metadata": {
    "slideshow": {
     "slide_type": "fragment"
    }
   },
   "source": [
    "But if vectorization works for you, keep using it!"
   ]
  },
  {
   "cell_type": "markdown",
   "metadata": {
    "slideshow": {
     "slide_type": "slide"
    }
   },
   "source": [
    "# How does C solve this problem?\n",
    "\n",
    "* The programmer specifies the type of *everything*.\n",
    "* Since all types are known, the entire program has predictable types: *compile* once, *run* many times.\n",
    "* Downsides: painful & inflexible."
   ]
  },
  {
   "cell_type": "markdown",
   "metadata": {
    "slideshow": {
     "slide_type": "slide"
    }
   },
   "source": [
    "# How does Julia solve this problem?\n",
    "\n",
    "Julia figures out types *automatically* (\"type inference\"), and compiles an optimized version on-the-fly (\"just in time\")."
   ]
  },
  {
   "cell_type": "markdown",
   "metadata": {
    "slideshow": {
     "slide_type": "fragment"
    }
   },
   "source": [
    "The key point is that Julia was designed to make the types as *predictable* as possible:\n",
    "\n",
    "```julia\n",
    "function myfunction(x, y)  # if Julia knows the types of the inputs...\n",
    "    z = f(g(h(x))) + k(y)  # ...it can peer inside dependent functions...\n",
    "    ...\n",
    "    result = a .* b + c    # ...and keep track of types all the way to the end\n",
    "end\n",
    "```"
   ]
  },
  {
   "cell_type": "markdown",
   "metadata": {
    "slideshow": {
     "slide_type": "fragment"
    }
   },
   "source": [
    "It will build (compile) a whole new version of `myfunction` for each combination of input types---and each one will be optimized to run quickly."
   ]
  },
  {
   "cell_type": "markdown",
   "metadata": {
    "slideshow": {
     "slide_type": "slide"
    }
   },
   "source": [
    "# Why don't other languages do the same thing?\n",
    "\n",
    "They try (and tens or hundreds of millions have been spent trying). But the languages weren't designed from the outset to make this \"easy,\" so it frequently breaks down.\n",
    "\n",
    "That's why most scientific languages rely ultimately on code written in C.\n",
    "\n",
    "Most impressive exception: JavaScript."
   ]
  },
  {
   "cell_type": "markdown",
   "metadata": {
    "slideshow": {
     "slide_type": "slide"
    }
   },
   "source": [
    "# Julia's key strengths: a summary\n",
    "\n",
    "* Interactive & dynamic (just-in-time compiling)"
   ]
  },
  {
   "cell_type": "markdown",
   "metadata": {
    "slideshow": {
     "slide_type": "fragment"
    }
   },
   "source": [
    "* Outstanding performance (type inference)"
   ]
  },
  {
   "cell_type": "markdown",
   "metadata": {
    "slideshow": {
     "slide_type": "fragment"
    }
   },
   "source": [
    "* Elegant language design"
   ]
  },
  {
   "cell_type": "markdown",
   "metadata": {
    "slideshow": {
     "slide_type": "fragment"
    }
   },
   "source": [
    "* A focus on _composable_ and _reusable_ code (focus on small building blocks, which you assemble into bigger things---this is very hard if you rely on vectorization)"
   ]
  },
  {
   "cell_type": "markdown",
   "metadata": {
    "slideshow": {
     "slide_type": "slide"
    }
   },
   "source": [
    "# A downside of the type system\n"
   ]
  },
  {
   "cell_type": "code",
   "execution_count": null,
   "metadata": {
    "slideshow": {
     "slide_type": "-"
    }
   },
   "outputs": [],
   "source": []
  },
  {
   "cell_type": "markdown",
   "metadata": {
    "slideshow": {
     "slide_type": "notes"
    }
   },
   "source": [
    "Above, I start out with a blank cell and show that `sqrt(2)` works but that `sqrt(-2)` throws an error. That you can work around this with `sqrt(complex(-2))`."
   ]
  },
  {
   "cell_type": "markdown",
   "metadata": {
    "slideshow": {
     "slide_type": "slide"
    }
   },
   "source": [
    "# When type inference isn't enough\n",
    "\n",
    "This code works, but it's not inferrable:\n",
    "```julia\n",
    "function mysqrt(x)\n",
    "    if x < 0\n",
    "        return sqrt(complex(x))   # returns a complex number\n",
    "    end\n",
    "    sqrt(x)                       # returns a real number\n",
    "end\n",
    "```\n",
    "This hurts performance."
   ]
  },
  {
   "cell_type": "markdown",
   "metadata": {
    "slideshow": {
     "slide_type": "notes"
    }
   },
   "source": [
    "Julia developers chose to make the \"core\" function fast, but if you prefer the behavior above you can add it yourself---but it will cost you in terms of performance.\n",
    "\n",
    "I say that this tradeoff is something that seems basically inevitable, and that while you often can get away without thinking (much) about types, ultimately you can't have Julia's great performance without them intruding occasionally. I point out that if this frustrates you, unlike some of the negatives that come next it's something that is unlikely to change---it's a permanent consequence of the design choices of the language."
   ]
  },
  {
   "cell_type": "markdown",
   "metadata": {
    "slideshow": {
     "slide_type": "slide"
    }
   },
   "source": [
    "# Julia's key weaknesses\n",
    "\n",
    "* Julia is not yet at 1.0: the language is still changing"
   ]
  },
  {
   "cell_type": "markdown",
   "metadata": {
    "slideshow": {
     "slide_type": "fragment"
    }
   },
   "source": [
    "* Type inference and compiling is slow"
   ]
  },
  {
   "cell_type": "markdown",
   "metadata": {
    "slideshow": {
     "slide_type": "fragment"
    }
   },
   "source": [
    "* It's still young and so the ecosystem is still growing"
   ]
  },
  {
   "cell_type": "markdown",
   "metadata": {
    "slideshow": {
     "slide_type": "slide"
    }
   },
   "source": [
    "# Do *not* switch to Julia (yet) if...\n",
    "\n",
    "* you're perfectly happy with what you're using now\n",
    "* everything you do involves simple stuff like matrix algebra and summing columns of numbers\n",
    "* you can't tolerate the idea of rewriting some aspects of your code because language changes broke it\n",
    "* you use huge packages that simply aren't available in Julia"
   ]
  },
  {
   "cell_type": "markdown",
   "metadata": {
    "slideshow": {
     "slide_type": "slide"
    }
   },
   "source": [
    "# Strongly consider switching to Julia if...\n",
    "\n",
    "* the performance of what you're using now is just killing you\n",
    "* limitations of the language you use now are making your code too ugly to maintain\n",
    "* you have free time on your hands and want to try something new"
   ]
  },
  {
   "cell_type": "markdown",
   "metadata": {
    "slideshow": {
     "slide_type": "slide"
    }
   },
   "source": [
    "# Switch now or after 1.0? Pros and cons\n",
    "\n",
    "* Pro of waiting: no need to rewrite code\n",
    "* Pro of testing it now: if you notice something ugly about Julia, there may still time to fix it"
   ]
  },
  {
   "cell_type": "markdown",
   "metadata": {
    "slideshow": {
     "slide_type": "slide"
    }
   },
   "source": [
    "# How to assess whether Julia is ready for you (yet)\n",
    "\n",
    "Packages:\n",
    "* Lists: http://genieframework.com/packages and https://juliaobserver.com/packages\n",
    "* \"Curated\" list: http://svaksha.github.io/Julia.jl/\n",
    "\n",
    "Play with it on a *small* project and see how you like it"
   ]
  },
  {
   "cell_type": "markdown",
   "metadata": {
    "slideshow": {
     "slide_type": "slide"
    }
   },
   "source": [
    "# To learn more about the Julia language\n",
    "\n",
    "* https://julialang.org/\n",
    "* https://en.wikibooks.org/wiki/Introducing_Julia\n",
    "* Performance tips: https://docs.julialang.org/en/stable/manual/performance-tips\n",
    "* Discussions: https://discourse.julialang.org/"
   ]
  },
  {
   "cell_type": "markdown",
   "metadata": {
    "collapsed": true,
    "slideshow": {
     "slide_type": "notes"
    }
   },
   "source": [
    "Acknowledgments and anything else \"personal\" to the author were deleted prior to distribution."
   ]
  }
 ],
 "metadata": {
  "celltoolbar": "Slideshow",
  "kernelspec": {
   "display_name": "Julia 0.6.1-pre",
   "language": "julia",
   "name": "julia-0.6"
  },
  "language_info": {
   "file_extension": ".jl",
   "mimetype": "application/julia",
   "name": "julia",
   "version": "0.6.1"
  },
  "livereveal": {
   "start_slideshow_at": "selected"
  }
 },
 "nbformat": 4,
 "nbformat_minor": 2
}
